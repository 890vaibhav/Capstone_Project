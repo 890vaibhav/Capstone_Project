{
    "nbformat_minor": 1, 
    "cells": [
        {
            "source": "<h1> <center>NERD GUIDE TO NEW YORK CITY</center></h1>", 
            "cell_type": "markdown", 
            "metadata": {
                "collapsed": true
            }
        }, 
        {
            "source": "<img src=\"http://s3.amazonaws.com/buzzfeed-media/Images/2011/09/NerdMap.png\">", 
            "cell_type": "markdown", 
            "metadata": {}
        }, 
        {
            "source": "<b><h2>Aim:</h2></b> <h4>This project is aimed to make your travel experience to New York Simple by Providing all nearby locations, local areas, hotels, best places to visit in new York with help of Foursquare datasets.<h4>", 
            "cell_type": "markdown", 
            "metadata": {}
        }, 
        {
            "source": "<h2> Introdution: </h2>\n\n<h3> \t<center>Although traveling is a pure joy, preparing it is full of agony</center>\n\nVisiting New York City on a budget might sound a bit far-fetched for some travelers, but with a little careful planning, you can have a successful trip to NYC on any budget.\n\nWhile New York City is known to be one of the world\u2019s most expensive cities, there are plenty of ways to have an incredible trip without breaking the bank. One of my favorite ways to explore city, venues, budget hotels is always through checking with Foursquare. <h3>", 
            "cell_type": "markdown", 
            "attachments": {}, 
            "metadata": {}
        }, 
        {
            "source": "<h2>OBJECTIVES:</h2>\n    \n<h3>\n\n1] First of all, the geojson data for new york city\u2019s neighborhood is required.\n\n2]  Then, analyzing the data using the Foursquare API.\n\n3] Use clustering to identify each area and its category.\n\n</h3>", 
            "cell_type": "markdown", 
            "attachments": {}, 
            "metadata": {}
        }, 
        {
            "source": "<h2> <center>Description of How it Gonna Work </center></h2>", 
            "cell_type": "markdown", 
            "metadata": {}
        }, 
        {
            "source": "<h4> Data Source we are going to use is from <i>Foursquare</i>. \n\nFoursquare is a technology company that uses location intelligence to build meaningful consumer experiences and business solutions.\n\nSo We are going to build a project with the help of Foursquare location data, Foursquare API provides great amount of quality data\u2019s about locations.(cafe, restaurant etc)\n\nUsing this data will allow tourists to easily decide where to go when they are in a specific city. </h4>", 
            "cell_type": "markdown", 
            "attachments": {}, 
            "metadata": {}
        }
    ], 
    "metadata": {
        "kernelspec": {
            "display_name": "Python 3.5", 
            "name": "python3", 
            "language": "python"
        }, 
        "language_info": {
            "mimetype": "text/x-python", 
            "nbconvert_exporter": "python", 
            "version": "3.5.5", 
            "name": "python", 
            "file_extension": ".py", 
            "pygments_lexer": "ipython3", 
            "codemirror_mode": {
                "version": 3, 
                "name": "ipython"
            }
        }
    }, 
    "nbformat": 4
}